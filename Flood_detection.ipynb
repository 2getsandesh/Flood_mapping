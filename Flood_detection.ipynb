{
  "cells": [
    {
      "cell_type": "markdown",
      "metadata": {
        "colab_type": "text",
        "id": "view-in-github"
      },
      "source": [
        "<a href=\"https://colab.research.google.com/github/2getsandesh/Flood_mapping/blob/main/Flood_detection.ipynb\" target=\"_parent\"><img src=\"https://colab.research.google.com/assets/colab-badge.svg\" alt=\"Open In Colab\"/></a>"
      ]
    },
    {
      "cell_type": "code",
      "execution_count": 1,
      "metadata": {
        "id": "XwN09d-szmJn"
      },
      "outputs": [],
      "source": [
        "import ee"
      ]
    },
    {
      "cell_type": "code",
      "execution_count": 2,
      "metadata": {
        "id": "S54YEkMMBu_a"
      },
      "outputs": [],
      "source": [
        "import geemap"
      ]
    },
    {
      "cell_type": "code",
      "execution_count": 3,
      "metadata": {
        "colab": {
          "base_uri": "https://localhost:8080/",
          "height": 34
        },
        "id": "Cz9z6bZs0iuY",
        "outputId": "00dea274-4f8a-464e-9ce2-301b5500fe85"
      },
      "outputs": [
        {
          "data": {
            "text/html": [
              "\n",
              "            <style>\n",
              "                .geemap-dark {\n",
              "                    --jp-widgets-color: white;\n",
              "                    --jp-widgets-label-color: white;\n",
              "                    --jp-ui-font-color1: white;\n",
              "                    --jp-layout-color2: #454545;\n",
              "                    background-color: #383838;\n",
              "                }\n",
              "                    \n",
              "                .geemap-dark .jupyter-button {\n",
              "                    --jp-layout-color3: #383838;\n",
              "                }\n",
              "                \n",
              "                .geemap-colab {\n",
              "                    background-color: var(--colab-primary-surface-color, white);\n",
              "                }\n",
              "                    \n",
              "                .geemap-colab .jupyter-button {\n",
              "                    --jp-layout-color3: var(--colab-primary-surface-color, white);\n",
              "                }\n",
              "            </style>\n",
              "            "
            ],
            "text/plain": [
              "<IPython.core.display.HTML object>"
            ]
          },
          "metadata": {},
          "output_type": "display_data"
        },
        {
          "data": {
            "text/plain": [
              "True"
            ]
          },
          "execution_count": 3,
          "metadata": {},
          "output_type": "execute_result"
        }
      ],
      "source": [
        "ee.Authenticate()"
      ]
    },
    {
      "cell_type": "code",
      "execution_count": 4,
      "metadata": {
        "colab": {
          "base_uri": "https://localhost:8080/",
          "height": 17
        },
        "id": "l8HrRL9e00m5",
        "outputId": "f0c1bb7b-4c98-4316-a08f-d0454c2cbc56"
      },
      "outputs": [
        {
          "data": {
            "text/html": [
              "\n",
              "            <style>\n",
              "                .geemap-dark {\n",
              "                    --jp-widgets-color: white;\n",
              "                    --jp-widgets-label-color: white;\n",
              "                    --jp-ui-font-color1: white;\n",
              "                    --jp-layout-color2: #454545;\n",
              "                    background-color: #383838;\n",
              "                }\n",
              "                    \n",
              "                .geemap-dark .jupyter-button {\n",
              "                    --jp-layout-color3: #383838;\n",
              "                }\n",
              "                \n",
              "                .geemap-colab {\n",
              "                    background-color: var(--colab-primary-surface-color, white);\n",
              "                }\n",
              "                    \n",
              "                .geemap-colab .jupyter-button {\n",
              "                    --jp-layout-color3: var(--colab-primary-surface-color, white);\n",
              "                }\n",
              "            </style>\n",
              "            "
            ],
            "text/plain": [
              "<IPython.core.display.HTML object>"
            ]
          },
          "metadata": {},
          "output_type": "display_data"
        }
      ],
      "source": [
        "ee.Initialize(project='ee-xbosonai')"
      ]
    },
    {
      "cell_type": "code",
      "execution_count": 5,
      "metadata": {
        "colab": {
          "base_uri": "https://localhost:8080/",
          "height": 34
        },
        "id": "9kTeoH7W1GBd",
        "outputId": "50373723-90ed-49cc-aa4b-a41213e97a3d"
      },
      "outputs": [
        {
          "data": {
            "text/html": [
              "\n",
              "            <style>\n",
              "                .geemap-dark {\n",
              "                    --jp-widgets-color: white;\n",
              "                    --jp-widgets-label-color: white;\n",
              "                    --jp-ui-font-color1: white;\n",
              "                    --jp-layout-color2: #454545;\n",
              "                    background-color: #383838;\n",
              "                }\n",
              "                    \n",
              "                .geemap-dark .jupyter-button {\n",
              "                    --jp-layout-color3: #383838;\n",
              "                }\n",
              "                \n",
              "                .geemap-colab {\n",
              "                    background-color: var(--colab-primary-surface-color, white);\n",
              "                }\n",
              "                    \n",
              "                .geemap-colab .jupyter-button {\n",
              "                    --jp-layout-color3: var(--colab-primary-surface-color, white);\n",
              "                }\n",
              "            </style>\n",
              "            "
            ],
            "text/plain": [
              "<IPython.core.display.HTML object>"
            ]
          },
          "metadata": {},
          "output_type": "display_data"
        },
        {
          "name": "stdout",
          "output_type": "stream",
          "text": [
            "NASADEM: NASA NASADEM Digital Elevation 30m\n"
          ]
        }
      ],
      "source": [
        "print(ee.Image(\"NASA/NASADEM_HGT/001\").get(\"title\").getInfo())"
      ]
    },
    {
      "cell_type": "code",
      "execution_count": 6,
      "metadata": {
        "colab": {
          "base_uri": "https://localhost:8080/",
          "height": 17
        },
        "id": "zjlKjSGh-tkk",
        "outputId": "fa32a222-519d-4323-e663-601c12a5ab02"
      },
      "outputs": [
        {
          "data": {
            "text/html": [
              "\n",
              "            <style>\n",
              "                .geemap-dark {\n",
              "                    --jp-widgets-color: white;\n",
              "                    --jp-widgets-label-color: white;\n",
              "                    --jp-ui-font-color1: white;\n",
              "                    --jp-layout-color2: #454545;\n",
              "                    background-color: #383838;\n",
              "                }\n",
              "                    \n",
              "                .geemap-dark .jupyter-button {\n",
              "                    --jp-layout-color3: #383838;\n",
              "                }\n",
              "                \n",
              "                .geemap-colab {\n",
              "                    background-color: var(--colab-primary-surface-color, white);\n",
              "                }\n",
              "                    \n",
              "                .geemap-colab .jupyter-button {\n",
              "                    --jp-layout-color3: var(--colab-primary-surface-color, white);\n",
              "                }\n",
              "            </style>\n",
              "            "
            ],
            "text/plain": [
              "<IPython.core.display.HTML object>"
            ]
          },
          "metadata": {},
          "output_type": "display_data"
        }
      ],
      "source": [
        "import datetime"
      ]
    },
    {
      "cell_type": "code",
      "execution_count": 7,
      "metadata": {
        "colab": {
          "base_uri": "https://localhost:8080/",
          "height": 17
        },
        "id": "_fePI8uEvN0h",
        "outputId": "d7ddd56c-abaa-49cf-c439-f2e06f742a86"
      },
      "outputs": [
        {
          "data": {
            "text/html": [
              "\n",
              "            <style>\n",
              "                .geemap-dark {\n",
              "                    --jp-widgets-color: white;\n",
              "                    --jp-widgets-label-color: white;\n",
              "                    --jp-ui-font-color1: white;\n",
              "                    --jp-layout-color2: #454545;\n",
              "                    background-color: #383838;\n",
              "                }\n",
              "                    \n",
              "                .geemap-dark .jupyter-button {\n",
              "                    --jp-layout-color3: #383838;\n",
              "                }\n",
              "                \n",
              "                .geemap-colab {\n",
              "                    background-color: var(--colab-primary-surface-color, white);\n",
              "                }\n",
              "                    \n",
              "                .geemap-colab .jupyter-button {\n",
              "                    --jp-layout-color3: var(--colab-primary-surface-color, white);\n",
              "                }\n",
              "            </style>\n",
              "            "
            ],
            "text/plain": [
              "<IPython.core.display.HTML object>"
            ]
          },
          "metadata": {},
          "output_type": "display_data"
        }
      ],
      "source": [
        "# Import required datasets\n",
        "gsw = ee.Image(\"JRC/GSW1_2/GlobalSurfaceWater\")\n",
        "admin2 = ee.FeatureCollection(\"FAO/GAUL_SIMPLIFIED_500m/2015/level2\")\n",
        "hydrosheds = ee.Image(\"WWF/HydroSHEDS/03VFDEM\")"
      ]
    },
    {
      "cell_type": "code",
      "execution_count": 8,
      "metadata": {
        "colab": {
          "base_uri": "https://localhost:8080/",
          "height": 17
        },
        "id": "c7Um3tx0B0vg",
        "outputId": "21eb57bd-805e-4e06-c751-aaabdeb4b87f"
      },
      "outputs": [
        {
          "data": {
            "text/html": [
              "\n",
              "            <style>\n",
              "                .geemap-dark {\n",
              "                    --jp-widgets-color: white;\n",
              "                    --jp-widgets-label-color: white;\n",
              "                    --jp-ui-font-color1: white;\n",
              "                    --jp-layout-color2: #454545;\n",
              "                    background-color: #383838;\n",
              "                }\n",
              "                    \n",
              "                .geemap-dark .jupyter-button {\n",
              "                    --jp-layout-color3: #383838;\n",
              "                }\n",
              "                \n",
              "                .geemap-colab {\n",
              "                    background-color: var(--colab-primary-surface-color, white);\n",
              "                }\n",
              "                    \n",
              "                .geemap-colab .jupyter-button {\n",
              "                    --jp-layout-color3: var(--colab-primary-surface-color, white);\n",
              "                }\n",
              "            </style>\n",
              "            "
            ],
            "text/plain": [
              "<IPython.core.display.HTML object>"
            ]
          },
          "metadata": {},
          "output_type": "display_data"
        }
      ],
      "source": [
        "beforeStart = '2018-07-15'\n",
        "beforeEnd = '2018-08-10'\n",
        "afterStart = '2018-08-10'\n",
        "afterEnd = '2018-08-23'\n",
        "\n",
        "\n",
        "beforeStart = ee.Date(beforeStart)\n",
        "beforeEnd = ee.Date(beforeEnd)\n",
        "afterStart = ee.Date(afterStart)\n",
        "afterEnd = ee.Date(afterEnd)"
      ]
    },
    {
      "cell_type": "code",
      "execution_count": 9,
      "metadata": {
        "colab": {
          "base_uri": "https://localhost:8080/",
          "height": 17
        },
        "id": "oWO8seu0CwHh",
        "outputId": "7e20ed9e-9d10-4fd8-9271-f0efb4ec18b5"
      },
      "outputs": [
        {
          "data": {
            "text/html": [
              "\n",
              "            <style>\n",
              "                .geemap-dark {\n",
              "                    --jp-widgets-color: white;\n",
              "                    --jp-widgets-label-color: white;\n",
              "                    --jp-ui-font-color1: white;\n",
              "                    --jp-layout-color2: #454545;\n",
              "                    background-color: #383838;\n",
              "                }\n",
              "                    \n",
              "                .geemap-dark .jupyter-button {\n",
              "                    --jp-layout-color3: #383838;\n",
              "                }\n",
              "                \n",
              "                .geemap-colab {\n",
              "                    background-color: var(--colab-primary-surface-color, white);\n",
              "                }\n",
              "                    \n",
              "                .geemap-colab .jupyter-button {\n",
              "                    --jp-layout-color3: var(--colab-primary-surface-color, white);\n",
              "                }\n",
              "            </style>\n",
              "            "
            ],
            "text/plain": [
              "<IPython.core.display.HTML object>"
            ]
          },
          "metadata": {},
          "output_type": "display_data"
        }
      ],
      "source": [
        "# Load the GAUL feature collection\n",
        "admin2 = ee.FeatureCollection(\"FAO/GAUL_SIMPLIFIED_500m/2015/level2\")\n",
        "\n",
        "# Filter the feature collection to get the district of Ernakulam\n",
        "ernakulam = admin2.filter(ee.Filter.eq('ADM2_NAME', 'Ernakulam'))\n",
        "\n",
        "# Get the geometry of the district\n",
        "geometry = ernakulam.geometry()\n",
        "\n",
        "# Create a Map object\n",
        "Map = geemap.Map(center=[10.0, 76.5], zoom=8)\n",
        "\n",
        "# Add the geometry to the map\n",
        "Map.addLayer(geometry, {'color': 'grey'}, 'Ernakulam District')\n",
        "\n"
      ]
    },
    {
      "cell_type": "code",
      "execution_count": 10,
      "metadata": {
        "colab": {
          "base_uri": "https://localhost:8080/",
          "height": 17
        },
        "id": "o38WvIWBjL-6",
        "outputId": "59a0db03-ca3f-41e8-9ff4-75b0c9aa9c41"
      },
      "outputs": [
        {
          "data": {
            "text/html": [
              "\n",
              "            <style>\n",
              "                .geemap-dark {\n",
              "                    --jp-widgets-color: white;\n",
              "                    --jp-widgets-label-color: white;\n",
              "                    --jp-ui-font-color1: white;\n",
              "                    --jp-layout-color2: #454545;\n",
              "                    background-color: #383838;\n",
              "                }\n",
              "                    \n",
              "                .geemap-dark .jupyter-button {\n",
              "                    --jp-layout-color3: #383838;\n",
              "                }\n",
              "                \n",
              "                .geemap-colab {\n",
              "                    background-color: var(--colab-primary-surface-color, white);\n",
              "                }\n",
              "                    \n",
              "                .geemap-colab .jupyter-button {\n",
              "                    --jp-layout-color3: var(--colab-primary-surface-color, white);\n",
              "                }\n",
              "            </style>\n",
              "            "
            ],
            "text/plain": [
              "<IPython.core.display.HTML object>"
            ]
          },
          "metadata": {},
          "output_type": "display_data"
        }
      ],
      "source": [
        "collection = (ee.ImageCollection('COPERNICUS/S1_GRD')\n",
        "              .filter(ee.Filter.eq('instrumentMode', 'IW'))\n",
        "              .filter(ee.Filter.listContains('transmitterReceiverPolarisation', 'VH'))\n",
        "              .filter(ee.Filter.listContains('transmitterReceiverPolarisation', 'VV'))\n",
        "              .filter(ee.Filter.eq('orbitProperties_pass', 'DESCENDING'))\n",
        "              .filter(ee.Filter.eq('resolution_meters', 10))\n",
        "              .filterBounds(geometry)\n",
        "              .select(['VH']))\n"
      ]
    },
    {
      "cell_type": "code",
      "execution_count": 15,
      "metadata": {
        "colab": {
          "base_uri": "https://localhost:8080/",
          "height": 17
        },
        "id": "SsbWZREqmlMO",
        "outputId": "b1baf77b-9d07-4def-b8af-e2df2a50b041"
      },
      "outputs": [
        {
          "data": {
            "text/html": [
              "\n",
              "            <style>\n",
              "                .geemap-dark {\n",
              "                    --jp-widgets-color: white;\n",
              "                    --jp-widgets-label-color: white;\n",
              "                    --jp-ui-font-color1: white;\n",
              "                    --jp-layout-color2: #454545;\n",
              "                    background-color: #383838;\n",
              "                }\n",
              "                    \n",
              "                .geemap-dark .jupyter-button {\n",
              "                    --jp-layout-color3: #383838;\n",
              "                }\n",
              "                \n",
              "                .geemap-colab {\n",
              "                    background-color: var(--colab-primary-surface-color, white);\n",
              "                }\n",
              "                    \n",
              "                .geemap-colab .jupyter-button {\n",
              "                    --jp-layout-color3: var(--colab-primary-surface-color, white);\n",
              "                }\n",
              "            </style>\n",
              "            "
            ],
            "text/plain": [
              "<IPython.core.display.HTML object>"
            ]
          },
          "metadata": {},
          "output_type": "display_data"
        }
      ],
      "source": [
        "# Filter the collection based on before and after dates\n",
        "beforeCollection = collection.filterDate(beforeStart, beforeEnd)\n",
        "afterCollection = collection.filterDate(afterStart, afterEnd)\n",
        "\n",
        "# Mosaic and clip images for before and after collections\n",
        "before = beforeCollection.mosaic().clip(geometry)\n",
        "after = afterCollection.mosaic().clip(geometry)\n",
        "\n",
        "\n",
        "# Function to convert from dB\n",
        "def toNatural(img):\n",
        "    return ee.Image(10.0).pow(img.select(0).divide(10.0))\n",
        "\n",
        "# Function to convert to dB\n",
        "def toDB(img):\n",
        "    return ee.Image(img).log10().multiply(10.0)\n",
        "\n",
        "# Function to apply Refined Lee Speckle filter\n",
        "def RefinedLee(img):\n",
        "    # img must be in natural units, i.e., not in dB!\n",
        "    # Set up 3x3 kernels\n",
        "    weights3 = ee.List.repeat(ee.List.repeat(1, 3), 3)\n",
        "    kernel3 = ee.Kernel.fixed(3, 3, weights3, 1, 1, False)\n",
        "\n",
        "    mean3 = img.reduceNeighborhood(ee.Reducer.mean(), kernel3)\n",
        "    variance3 = img.reduceNeighborhood(ee.Reducer.variance(), kernel3)\n",
        "\n",
        "    # Use a sample of the 3x3 windows inside a 7x7 windows to determine gradients and directions\n",
        "    sample_weights = ee.List([[0,0,0,0,0,0,0], [0,1,0,1,0,1,0],[0,0,0,0,0,0,0], [0,1,0,1,0,1,0], [0,0,0,0,0,0,0], [0,1,0,1,0,1,0],[0,0,0,0,0,0,0]])\n",
        "    sample_kernel = ee.Kernel.fixed(7, 7, sample_weights, 3, 3, False)\n",
        "\n",
        "    # Calculate mean and variance for the sampled windows and store as 9 bands\n",
        "    sample_mean = mean3.neighborhoodToBands(sample_kernel)\n",
        "    sample_var = variance3.neighborhoodToBands(sample_kernel)\n",
        "\n",
        "    # Determine the 4 gradients for the sampled windows\n",
        "    gradients = sample_mean.select(1).subtract(sample_mean.select(7)).abs()\n",
        "    gradients = gradients.addBands(sample_mean.select(6).subtract(sample_mean.select(2)).abs())\n",
        "    gradients = gradients.addBands(sample_mean.select(3).subtract(sample_mean.select(5)).abs())\n",
        "    gradients = gradients.addBands(sample_mean.select(0).subtract(sample_mean.select(8)).abs())\n",
        "\n",
        "    # And find the maximum gradient amongst gradient bands\n",
        "    max_gradient = gradients.reduce(ee.Reducer.max())\n",
        "\n",
        "    # Create a mask for band pixels that are the maximum gradient\n",
        "    gradmask = gradients.eq(max_gradient)\n",
        "\n",
        "    # Duplicate gradmask bands: each gradient represents 2 directions\n",
        "    gradmask = gradmask.addBands(gradmask)\n",
        "\n",
        "    # Determine the 8 directions\n",
        "    directions = sample_mean.select(1).subtract(sample_mean.select(4)).gt(sample_mean.select(4).subtract(sample_mean.select(7))).multiply(1)\n",
        "    directions = directions.addBands(sample_mean.select(6).subtract(sample_mean.select(4)).gt(sample_mean.select(4).subtract(sample_mean.select(2))).multiply(2))\n",
        "    directions = directions.addBands(sample_mean.select(3).subtract(sample_mean.select(4)).gt(sample_mean.select(4).subtract(sample_mean.select(5))).multiply(3))\n",
        "    directions = directions.addBands(sample_mean.select(0).subtract(sample_mean.select(4)).gt(sample_mean.select(4).subtract(sample_mean.select(8))).multiply(4))\n",
        "    # The next 4 are the not() of the previous 4\n",
        "    directions = directions.addBands(directions.select(0).Not().multiply(5))\n",
        "    directions = directions.addBands(directions.select(1).Not().multiply(6))\n",
        "    directions = directions.addBands(directions.select(2).Not().multiply(7))\n",
        "    directions = directions.addBands(directions.select(3).Not().multiply(8))\n",
        "\n",
        "    # Mask all values that are not 1-8\n",
        "    directions = directions.updateMask(gradmask)\n",
        "\n",
        "    # \"Collapse\" the stack into a single band image (due to masking, each pixel has just one value (1-8) in its directional band, and is otherwise masked)\n",
        "    directions = directions.reduce(ee.Reducer.sum())\n",
        "\n",
        "    # Calculate sample statistics\n",
        "    sample_stats = sample_var.divide(sample_mean.multiply(sample_mean))\n",
        "\n",
        "    # Calculate localNoiseVariance\n",
        "    sigmaV = sample_stats.toArray().arraySort().arraySlice(0, 0, 5).arrayReduce(ee.Reducer.mean(), [0])\n",
        "\n",
        "    # Set up the 7*7 kernels for directional statistics\n",
        "    rect_weights = ee.List.repeat(ee.List.repeat(0, 7), 3).cat(ee.List.repeat(ee.List.repeat(1, 7), 4))\n",
        "    diag_weights = ee.List([[1,0,0,0,0,0,0], [1,1,0,0,0,0,0], [1,1,1,0,0,0,0], [1,1,1,1,0,0,0], [1,1,1,1,1,0,0], [1,1,1,1,1,1,0], [1,1,1,1,1,1,1]])\n",
        "\n",
        "    rect_kernel = ee.Kernel.fixed(7, 7, rect_weights, 3, 3, False)\n",
        "    diag_kernel = ee.Kernel.fixed(7, 7, diag_weights, 3, 3, False)\n",
        "\n",
        "    # Create stacks for mean and variance using the original kernels. Mask with relevant direction.\n",
        "    dir_mean = img.reduceNeighborhood(ee.Reducer.mean(), rect_kernel).updateMask(directions.eq(1))\n",
        "    dir_var = img.reduceNeighborhood(ee.Reducer.variance(), rect_kernel).updateMask(directions.eq(1))\n",
        "\n",
        "    dir_mean = dir_mean.addBands(img.reduceNeighborhood(ee.Reducer.mean(), diag_kernel).updateMask(directions.eq(2)))\n",
        "    dir_var = dir_var.addBands(img.reduceNeighborhood(ee.Reducer.variance(), diag_kernel).updateMask(directions.eq(2)))\n",
        "\n",
        "    # Add the bands for rotated kernels\n",
        "    for i in range(1, 4):\n",
        "        dir_mean = dir_mean.addBands(img.reduceNeighborhood(ee.Reducer.mean(), rect_kernel.rotate(i)).updateMask(directions.eq(2 * i + 1)))\n",
        "        dir_var = dir_var.addBands(img.reduceNeighborhood(ee.Reducer.variance(), rect_kernel.rotate(i)).updateMask(directions.eq(2 * i + 1)))\n",
        "        dir_mean = dir_mean.addBands(img.reduceNeighborhood(ee.Reducer.mean(), diag_kernel.rotate(i)).updateMask(directions.eq(2 * i + 2)))\n",
        "        dir_var = dir_var.addBands(img.reduceNeighborhood(ee.Reducer.variance(), diag_kernel.rotate(i)).updateMask(directions.eq(2 * i + 2)))\n",
        "\n",
        "    # \"Collapse\" the stack into a single band image (due to masking, each pixel has just one value in its directional band, and is otherwise masked)\n",
        "    dir_mean = dir_mean.reduce(ee.Reducer.sum())\n",
        "    dir_var = dir_var.reduce(ee.Reducer.sum())\n",
        "\n",
        "    # Generate the filtered value\n",
        "    varX = dir_var.subtract(dir_mean.multiply(dir_mean).multiply(sigmaV)).divide(sigmaV.add(1.0))\n",
        "\n",
        "    b = varX.divide(dir_var)\n",
        "\n",
        "    result = dir_mean.add(b.multiply(img.subtract(dir_mean)))\n",
        "    return result.arrayFlatten([['sum']])\n",
        "\n",
        "\n",
        "# Apply speckle filtering to before and after images\n",
        "beforeFiltered = toDB(RefinedLee(toNatural(before)))\n",
        "afterFiltered = toDB(RefinedLee(toNatural(after)))\n",
        "\n",
        "# Display the filtered images on the map\n",
        "Map.addLayer(beforeFiltered, {'min': -25, 'max': 0}, 'Before Floods (Filtered)', True)\n",
        "Map.addLayer(afterFiltered, {'min': -25, 'max': 0}, 'After Floods (Filtered)', True)\n",
        "\n",
        "# Calculate the difference using division\n",
        "difference = afterFiltered.divide(beforeFiltered)\n",
        "\n",
        "# Define a threshold\n",
        "diffThreshold = 1.25\n",
        "\n",
        "# Initial estimate of flooded pixels\n",
        "flooded = difference.gt(diffThreshold).rename('water').selfMask()\n",
        "\n",
        "# Add the layer to the map\n",
        "Map.addLayer(flooded, {'min': 0, 'max': 1, 'palette': ['orange']}, 'Initial Flood Area (Division)', True)\n",
        "\n",
        "# Alternate way to detect change using subtraction\n",
        "# Since the S1_GRD collection has log-scaled DB values, subtract is more appropriate\n",
        "# If you use subtract(), the threshold value also changes.\n",
        "difference = afterFiltered.subtract(beforeFiltered)\n",
        "diffThreshold = -3\n",
        "\n",
        "# Initial estimate of flooded pixels using subtraction\n",
        "flooded = difference.lt(diffThreshold).rename('water').selfMask()\n",
        "\n",
        "# Add the layer to the map\n",
        "Map.addLayer(flooded, {'min': 0, 'max': 1, 'palette': ['purple']}, 'Initial Flood Area (subtract)', True)\n",
        "\n",
        "\n",
        "\n",
        "\n"
      ]
    },
    {
      "cell_type": "code",
      "execution_count": 16,
      "metadata": {
        "colab": {
          "base_uri": "https://localhost:8080/",
          "height": 621,
          "referenced_widgets": [
            "e8c3776c870b4094914829eec1e0aa05",
            "32f1f4630a1743f395df8c6b2033d53c",
            "2f3054f90e4940d1822bfdb4dff939d5",
            "50810aa53d3d4e2a9089e1bf9f6e2a29",
            "f0cb10bce592460195d59c91d0ed2f8a",
            "d97e792ea30e4ba8975490f4ef0b577d",
            "ca212789170e49f488cb8baca2a26a27",
            "d5b0ec86142143f7ac77da88b3c2a590",
            "c6ed8423645942b7a0a3e63be8a83013",
            "bcfba1c048734f9ea3f9e74a07786cb7",
            "850f1f98e06c4d84ba63186aa5d30359",
            "30c4c638e511440b899f17aa9e227e25",
            "0f6fd2c9adce42d493bdcda1a5ffe92e",
            "f63244ddb476492c923bd4c809c8696e",
            "5f63d784c5184291b7138b0bfe9746fd",
            "3578568c630e41da9be6fcd67c6ba203",
            "84145019f7224078b67d81bb0313398a",
            "40e98547d7e34e3181831893193169f0",
            "925c191156c34f79a3833b4867a4914f",
            "7a60f10bede9469e914d5353dc345c50",
            "05d7fe69ee694b00ababbd8a2db8d715",
            "f6461e0bc82447e28c5de8ab87ad51ea",
            "5cd41c2a966845249e1d60fe7a7a4b4c",
            "cc464a696b754216848c3bc405995378",
            "6a00e96cc3c44e4382b336c1c57405b3",
            "5d253311ce274c59a32b86b2cf23728d",
            "fc85606f7d364baeba898fda835114ff",
            "1d4e05c0be3d4fb08f65dfb14a4f8c8a",
            "abecf1aeccd145119a2be178de55d893",
            "0b6c485df62940538b1d233c0959048f",
            "fa59d54154ce4267af32426d687659e2",
            "22b23cce4208499f87ee5bc7fd5cf92c",
            "b19a23f1483d4ae9ae460441436ed7d4",
            "1fc0103f41e54b65a8edb8bc542a54c3"
          ]
        },
        "id": "r_0NozSqAuhp",
        "outputId": "9594bfe8-d3f8-48a4-8fe0-1dcab58a8ab9"
      },
      "outputs": [
        {
          "data": {
            "text/html": [
              "\n",
              "            <style>\n",
              "                .geemap-dark {\n",
              "                    --jp-widgets-color: white;\n",
              "                    --jp-widgets-label-color: white;\n",
              "                    --jp-ui-font-color1: white;\n",
              "                    --jp-layout-color2: #454545;\n",
              "                    background-color: #383838;\n",
              "                }\n",
              "                    \n",
              "                .geemap-dark .jupyter-button {\n",
              "                    --jp-layout-color3: #383838;\n",
              "                }\n",
              "                \n",
              "                .geemap-colab {\n",
              "                    background-color: var(--colab-primary-surface-color, white);\n",
              "                }\n",
              "                    \n",
              "                .geemap-colab .jupyter-button {\n",
              "                    --jp-layout-color3: var(--colab-primary-surface-color, white);\n",
              "                }\n",
              "            </style>\n",
              "            "
            ],
            "text/plain": [
              "<IPython.core.display.HTML object>"
            ]
          },
          "metadata": {},
          "output_type": "display_data"
        },
        {
          "data": {
            "application/vnd.jupyter.widget-view+json": {
              "model_id": "c557b502e6f44d0d85411ff6d38f4751",
              "version_major": 2,
              "version_minor": 0
            },
            "text/plain": [
              "Map(bottom=495112.0, center=[10.067572275043405, 76.38039337385835], controls=(WidgetControl(options=['positio…"
            ]
          },
          "execution_count": 16,
          "metadata": {},
          "output_type": "execute_result"
        }
      ],
      "source": [
        "# Mask out area with permanent/semi-permanent water\n",
        "permanent_water = gsw.select('seasonality').gte(5).clip(geometry)\n",
        "flooded = flooded.where(permanent_water, 0).selfMask()\n",
        "Map.addLayer(permanent_water.selfMask(), {'min': 0, 'max': 1, 'palette': ['blue']}, 'Permanent Water')\n",
        "\n",
        "# Mask out areas with more than 5 percent slope using the HydroSHEDS DEM\n",
        "slope_threshold = 5\n",
        "terrain = ee.Algorithms.Terrain(hydrosheds)\n",
        "slope = terrain.select('slope').clip(geometry)\n",
        "flooded = flooded.updateMask(slope.lt(slope_threshold))\n",
        "Map.addLayer(slope.gte(slope_threshold).selfMask(), {'min': 0, 'max': 1, 'palette': ['cyan']}, 'Steep Areas', True)\n",
        "\n",
        "# Remove isolated pixels\n",
        "# connectedPixelCount is Zoom dependent, so visual result will vary\n",
        "connected_pixel_threshold = 8\n",
        "connections = flooded.connectedPixelCount(25)\n",
        "flooded = flooded.updateMask(connections.gt(connected_pixel_threshold))\n",
        "Map.addLayer(connections.lte(connected_pixel_threshold).selfMask(), {'min': 0, 'max': 1, 'palette': ['yellow']}, 'Disconnected Areas', True)\n",
        "\n",
        "Map.addLayer(flooded, {'min': 0, 'max': 1, 'palette': ['red']}, 'Flooded Areas')\n",
        "\n",
        "# Display the map\n",
        "Map.addLayerControl()\n",
        "Map\n",
        "\n"
      ]
    },
    {
      "cell_type": "code",
      "execution_count": null,
      "metadata": {
        "colab": {
          "base_uri": "https://localhost:8080/",
          "height": 971
        },
        "id": "1Q2n8jW0CwQ6",
        "outputId": "d98ef3f4-2dbe-4854-a6ed-552e1fe13db9"
      },
      "outputs": [
        {
          "data": {
            "text/html": [
              "\n",
              "            <style>\n",
              "                .geemap-dark {\n",
              "                    --jp-widgets-color: white;\n",
              "                    --jp-widgets-label-color: white;\n",
              "                    --jp-ui-font-color1: white;\n",
              "                    --jp-layout-color2: #454545;\n",
              "                    background-color: #383838;\n",
              "                }\n",
              "                    \n",
              "                .geemap-dark .jupyter-button {\n",
              "                    --jp-layout-color3: #383838;\n",
              "                }\n",
              "                \n",
              "                .geemap-colab {\n",
              "                    background-color: var(--colab-primary-surface-color, white);\n",
              "                }\n",
              "                    \n",
              "                .geemap-colab .jupyter-button {\n",
              "                    --jp-layout-color3: var(--colab-primary-surface-color, white);\n",
              "                }\n",
              "            </style>\n",
              "            "
            ],
            "text/plain": [
              "<IPython.core.display.HTML object>"
            ]
          },
          "metadata": {},
          "output_type": "display_data"
        },
        {
          "name": "stdout",
          "output_type": "stream",
          "text": [
            "Total District Area (Ha) ee.Number({\n",
            "  \"functionInvocationValue\": {\n",
            "    \"functionName\": \"Number.divide\",\n",
            "    \"arguments\": {\n",
            "      \"left\": {\n",
            "        \"functionInvocationValue\": {\n",
            "          \"functionName\": \"Geometry.area\",\n",
            "          \"arguments\": {\n",
            "            \"geometry\": {\n",
            "              \"functionInvocationValue\": {\n",
            "                \"functionName\": \"Collection.geometry\",\n",
            "                \"arguments\": {\n",
            "                  \"collection\": {\n",
            "                    \"functionInvocationValue\": {\n",
            "                      \"functionName\": \"Collection.filter\",\n",
            "                      \"arguments\": {\n",
            "                        \"collection\": {\n",
            "                          \"functionInvocationValue\": {\n",
            "                            \"functionName\": \"Collection.loadTable\",\n",
            "                            \"arguments\": {\n",
            "                              \"tableId\": {\n",
            "                                \"constantValue\": \"FAO/GAUL_SIMPLIFIED_500m/2015/level2\"\n",
            "                              }\n",
            "                            }\n",
            "                          }\n",
            "                        },\n",
            "                        \"filter\": {\n",
            "                          \"functionInvocationValue\": {\n",
            "                            \"functionName\": \"Filter.equals\",\n",
            "                            \"arguments\": {\n",
            "                              \"leftField\": {\n",
            "                                \"constantValue\": \"ADM2_NAME\"\n",
            "                              },\n",
            "                              \"rightValue\": {\n",
            "                                \"constantValue\": \"Ernakulam\"\n",
            "                              }\n",
            "                            }\n",
            "                          }\n",
            "                        }\n",
            "                      }\n",
            "                    }\n",
            "                  }\n",
            "                }\n",
            "              }\n",
            "            }\n",
            "          }\n",
            "        }\n",
            "      },\n",
            "      \"right\": {\n",
            "        \"constantValue\": 10000\n",
            "      }\n",
            "    }\n",
            "  }\n",
            "})\n",
            "Flooded Area (Ha) "
          ]
        }
      ],
      "source": [
        "'''# Calculate Affected Area\n",
        "print('Total District Area (Ha)', geometry.area().divide(10000))\n",
        "\n",
        "# Calculate the flooded area\n",
        "stats = flooded.multiply(ee.Image.pixelArea()).reduceRegion(\n",
        "    reducer=ee.Reducer.sum(),\n",
        "    geometry=geometry,\n",
        "    scale=100,  # Adjusted scale for faster computation\n",
        "    maxPixels=1e9,  # Adjusted maxPixels based on the size of the region\n",
        "    tileScale=4\n",
        ")\n",
        "print('Flooded Area (Ha)', ee.Number(stats.get('water')).divide(10000))\n",
        "\n",
        "# If the above computation times out, you can export it\n",
        "flooded_area = ee.Number(stats.get('water')).divide(10000)\n",
        "feature = ee.Feature(None, {'flooded_area': flooded_area})\n",
        "fc = ee.FeatureCollection([feature])\n",
        "\n",
        "# Export the flooded area data to Drive\n",
        "task = ee.batch.Export.table.toDrive(\n",
        "    collection=fc,\n",
        "    description='Flooded_Area_Export',\n",
        "    folder='earthengine',\n",
        "    fileNamePrefix='flooded_area',\n",
        "    fileFormat='CSV'\n",
        ")\n",
        "task.start()\n",
        "\n",
        "'''\n"
      ]
    }
  ],
  "metadata": {
    "colab": {
      "include_colab_link": true,
      "provenance": []
    },
    "kernelspec": {
      "display_name": "Python 3",
      "name": "python3"
    },
    "language_info": {
      "codemirror_mode": {
        "name": "ipython",
        "version": 3
      },
      "file_extension": ".py",
      "mimetype": "text/x-python",
      "name": "python",
      "nbconvert_exporter": "python",
      "pygments_lexer": "ipython3",
      "version": "3.11.5"
    },
    "widgets": {
      "application/vnd.jupyter.widget-state+json": {
        "05d7fe69ee694b00ababbd8a2db8d715": {
          "model_module": "jupyter-leaflet",
          "model_module_version": "^0.18",
          "model_name": "LeafletTileLayerModel",
          "state": {
            "_model_module": "jupyter-leaflet",
            "_model_module_version": "^0.18",
            "_model_name": "LeafletTileLayerModel",
            "_view_count": null,
            "_view_module": "jupyter-leaflet",
            "_view_module_version": "^0.18",
            "_view_name": "LeafletTileLayerView",
            "attribution": "Google Earth Engine",
            "base": false,
            "bottom": true,
            "bounds": null,
            "detect_retina": false,
            "loading": true,
            "max_native_zoom": null,
            "max_zoom": 24,
            "min_native_zoom": null,
            "min_zoom": 0,
            "name": "Disconnected Areas",
            "no_wrap": false,
            "opacity": 1,
            "options": [
              "attribution",
              "bounds",
              "detect_retina",
              "max_native_zoom",
              "max_zoom",
              "min_native_zoom",
              "min_zoom",
              "no_wrap",
              "tile_size",
              "tms",
              "zoom_offset"
            ],
            "pane": "",
            "popup": null,
            "popup_max_height": null,
            "popup_max_width": 300,
            "popup_min_width": 50,
            "show_loading": false,
            "subitems": [],
            "tile_size": 256,
            "tms": false,
            "url": "https://earthengine.googleapis.com/v1/projects/ee-xbosonai/maps/631a8898177a62d539ec44647e35cd30-68d3ae6efc6860ced86eb7977233654e/tiles/{z}/{x}/{y}",
            "visible": true,
            "zoom_offset": 0
          }
        },
        "0b6c485df62940538b1d233c0959048f": {
          "model_module": "@jupyter-widgets/base",
          "model_module_version": "1.2.0",
          "model_name": "LayoutModel",
          "state": {
            "_model_module": "@jupyter-widgets/base",
            "_model_module_version": "1.2.0",
            "_model_name": "LayoutModel",
            "_view_count": null,
            "_view_module": "@jupyter-widgets/base",
            "_view_module_version": "1.2.0",
            "_view_name": "LayoutView",
            "align_content": null,
            "align_items": null,
            "align_self": null,
            "border": null,
            "bottom": null,
            "display": null,
            "flex": null,
            "flex_flow": null,
            "grid_area": null,
            "grid_auto_columns": null,
            "grid_auto_flow": null,
            "grid_auto_rows": null,
            "grid_column": null,
            "grid_gap": null,
            "grid_row": null,
            "grid_template_areas": null,
            "grid_template_columns": null,
            "grid_template_rows": null,
            "height": null,
            "justify_content": null,
            "justify_items": null,
            "left": null,
            "margin": null,
            "max_height": null,
            "max_width": null,
            "min_height": null,
            "min_width": null,
            "object_fit": null,
            "object_position": null,
            "order": null,
            "overflow": null,
            "overflow_x": null,
            "overflow_y": null,
            "padding": null,
            "right": null,
            "top": null,
            "visibility": null,
            "width": null
          }
        },
        "0f6fd2c9adce42d493bdcda1a5ffe92e": {
          "model_module": "jupyter-leaflet",
          "model_module_version": "^0.18",
          "model_name": "LeafletTileLayerModel",
          "state": {
            "_model_module": "jupyter-leaflet",
            "_model_module_version": "^0.18",
            "_model_name": "LeafletTileLayerModel",
            "_view_count": null,
            "_view_module": "jupyter-leaflet",
            "_view_module_version": "^0.18",
            "_view_name": "LeafletTileLayerView",
            "attribution": "&copy; <a href=\"https://www.openstreetmap.org/copyright\">OpenStreetMap</a> contributors",
            "base": true,
            "bottom": true,
            "bounds": null,
            "detect_retina": false,
            "loading": true,
            "max_native_zoom": null,
            "max_zoom": 19,
            "min_native_zoom": null,
            "min_zoom": 1,
            "name": "OpenStreetMap.Mapnik",
            "no_wrap": false,
            "opacity": 1,
            "options": [
              "attribution",
              "bounds",
              "detect_retina",
              "max_native_zoom",
              "max_zoom",
              "min_native_zoom",
              "min_zoom",
              "no_wrap",
              "tile_size",
              "tms",
              "zoom_offset"
            ],
            "pane": "",
            "popup": null,
            "popup_max_height": null,
            "popup_max_width": 300,
            "popup_min_width": 50,
            "show_loading": false,
            "subitems": [],
            "tile_size": 256,
            "tms": false,
            "url": "https://tile.openstreetmap.org/{z}/{x}/{y}.png",
            "visible": true,
            "zoom_offset": 0
          }
        },
        "1d4e05c0be3d4fb08f65dfb14a4f8c8a": {
          "model_module": "@jupyter-widgets/base",
          "model_module_version": "1.2.0",
          "model_name": "LayoutModel",
          "state": {
            "_model_module": "@jupyter-widgets/base",
            "_model_module_version": "1.2.0",
            "_model_name": "LayoutModel",
            "_view_count": null,
            "_view_module": "@jupyter-widgets/base",
            "_view_module_version": "1.2.0",
            "_view_name": "LayoutView",
            "align_content": null,
            "align_items": null,
            "align_self": null,
            "border": null,
            "bottom": null,
            "display": null,
            "flex": null,
            "flex_flow": null,
            "grid_area": null,
            "grid_auto_columns": null,
            "grid_auto_flow": null,
            "grid_auto_rows": null,
            "grid_column": null,
            "grid_gap": null,
            "grid_row": null,
            "grid_template_areas": null,
            "grid_template_columns": null,
            "grid_template_rows": null,
            "height": null,
            "justify_content": null,
            "justify_items": null,
            "left": null,
            "margin": null,
            "max_height": null,
            "max_width": null,
            "min_height": null,
            "min_width": null,
            "object_fit": null,
            "object_position": null,
            "order": null,
            "overflow": null,
            "overflow_x": null,
            "overflow_y": null,
            "padding": null,
            "right": null,
            "top": null,
            "visibility": null,
            "width": null
          }
        },
        "1fc0103f41e54b65a8edb8bc542a54c3": {
          "model_module": "@jupyter-widgets/controls",
          "model_module_version": "1.5.0",
          "model_name": "DescriptionStyleModel",
          "state": {
            "_model_module": "@jupyter-widgets/controls",
            "_model_module_version": "1.5.0",
            "_model_name": "DescriptionStyleModel",
            "_view_count": null,
            "_view_module": "@jupyter-widgets/base",
            "_view_module_version": "1.2.0",
            "_view_name": "StyleView",
            "description_width": ""
          }
        },
        "22b23cce4208499f87ee5bc7fd5cf92c": {
          "model_module": "@jupyter-widgets/controls",
          "model_module_version": "1.5.0",
          "model_name": "DescriptionStyleModel",
          "state": {
            "_model_module": "@jupyter-widgets/controls",
            "_model_module_version": "1.5.0",
            "_model_name": "DescriptionStyleModel",
            "_view_count": null,
            "_view_module": "@jupyter-widgets/base",
            "_view_module_version": "1.2.0",
            "_view_name": "StyleView",
            "description_width": ""
          }
        },
        "2f3054f90e4940d1822bfdb4dff939d5": {
          "model_module": "jupyter-leaflet",
          "model_module_version": "^0.18",
          "model_name": "LeafletZoomControlModel",
          "state": {
            "_model_module": "jupyter-leaflet",
            "_model_module_version": "^0.18",
            "_model_name": "LeafletZoomControlModel",
            "_view_count": null,
            "_view_module": "jupyter-leaflet",
            "_view_module_version": "^0.18",
            "_view_name": "LeafletZoomControlView",
            "options": [
              "position",
              "zoom_in_text",
              "zoom_in_title",
              "zoom_out_text",
              "zoom_out_title"
            ],
            "position": "topleft",
            "zoom_in_text": "+",
            "zoom_in_title": "Zoom in",
            "zoom_out_text": "-",
            "zoom_out_title": "Zoom out"
          }
        },
        "30c4c638e511440b899f17aa9e227e25": {
          "model_module": "jupyter-leaflet",
          "model_module_version": "^0.18",
          "model_name": "LeafletMapStyleModel",
          "state": {
            "_model_module": "jupyter-leaflet",
            "_model_module_version": "^0.18",
            "_model_name": "LeafletMapStyleModel",
            "_view_count": null,
            "_view_module": "@jupyter-widgets/base",
            "_view_module_version": "1.2.0",
            "_view_name": "StyleView",
            "cursor": "move"
          }
        },
        "32f1f4630a1743f395df8c6b2033d53c": {
          "model_module": "jupyter-leaflet",
          "model_module_version": "^0.18",
          "model_name": "LeafletWidgetControlModel",
          "state": {
            "_model_module": "jupyter-leaflet",
            "_model_module_version": "^0.18",
            "_model_name": "LeafletWidgetControlModel",
            "_view_count": null,
            "_view_module": "jupyter-leaflet",
            "_view_module_version": "^0.18",
            "_view_name": "LeafletWidgetControlView",
            "max_height": null,
            "max_width": null,
            "min_height": null,
            "min_width": null,
            "options": [
              "position",
              "transparent_bg"
            ],
            "position": "topleft",
            "transparent_bg": false,
            "widget": "IPY_MODEL_6a00e96cc3c44e4382b336c1c57405b3"
          }
        },
        "3578568c630e41da9be6fcd67c6ba203": {
          "model_module": "jupyter-leaflet",
          "model_module_version": "^0.18",
          "model_name": "LeafletTileLayerModel",
          "state": {
            "_model_module": "jupyter-leaflet",
            "_model_module_version": "^0.18",
            "_model_name": "LeafletTileLayerModel",
            "_view_count": null,
            "_view_module": "jupyter-leaflet",
            "_view_module_version": "^0.18",
            "_view_name": "LeafletTileLayerView",
            "attribution": "Google Earth Engine",
            "base": false,
            "bottom": true,
            "bounds": null,
            "detect_retina": false,
            "loading": true,
            "max_native_zoom": null,
            "max_zoom": 24,
            "min_native_zoom": null,
            "min_zoom": 0,
            "name": "After Floods (Filtered)",
            "no_wrap": false,
            "opacity": 1,
            "options": [
              "attribution",
              "bounds",
              "detect_retina",
              "max_native_zoom",
              "max_zoom",
              "min_native_zoom",
              "min_zoom",
              "no_wrap",
              "tile_size",
              "tms",
              "zoom_offset"
            ],
            "pane": "",
            "popup": null,
            "popup_max_height": null,
            "popup_max_width": 300,
            "popup_min_width": 50,
            "show_loading": false,
            "subitems": [],
            "tile_size": 256,
            "tms": false,
            "url": "https://earthengine.googleapis.com/v1/projects/ee-xbosonai/maps/5fd6514c744c16e17d5b5ff50c2777f4-c364daab5bf2f103ca088dfc1fb31465/tiles/{z}/{x}/{y}",
            "visible": false,
            "zoom_offset": 0
          }
        },
        "40e98547d7e34e3181831893193169f0": {
          "model_module": "jupyter-leaflet",
          "model_module_version": "^0.18",
          "model_name": "LeafletTileLayerModel",
          "state": {
            "_model_module": "jupyter-leaflet",
            "_model_module_version": "^0.18",
            "_model_name": "LeafletTileLayerModel",
            "_view_count": null,
            "_view_module": "jupyter-leaflet",
            "_view_module_version": "^0.18",
            "_view_name": "LeafletTileLayerView",
            "attribution": "Google Earth Engine",
            "base": false,
            "bottom": true,
            "bounds": null,
            "detect_retina": false,
            "loading": true,
            "max_native_zoom": null,
            "max_zoom": 24,
            "min_native_zoom": null,
            "min_zoom": 0,
            "name": "Initial Flood Area (subtract)",
            "no_wrap": false,
            "opacity": 1,
            "options": [
              "attribution",
              "bounds",
              "detect_retina",
              "max_native_zoom",
              "max_zoom",
              "min_native_zoom",
              "min_zoom",
              "no_wrap",
              "tile_size",
              "tms",
              "zoom_offset"
            ],
            "pane": "",
            "popup": null,
            "popup_max_height": null,
            "popup_max_width": 300,
            "popup_min_width": 50,
            "show_loading": false,
            "subitems": [],
            "tile_size": 256,
            "tms": false,
            "url": "https://earthengine.googleapis.com/v1/projects/ee-xbosonai/maps/d70650fa739b9bfe08a37a216f1aa705-da2f1f844d73e04e277e71f6be618062/tiles/{z}/{x}/{y}",
            "visible": true,
            "zoom_offset": 0
          }
        },
        "50810aa53d3d4e2a9089e1bf9f6e2a29": {
          "model_module": "jupyter-leaflet",
          "model_module_version": "^0.18",
          "model_name": "LeafletFullScreenControlModel",
          "state": {
            "_model_module": "jupyter-leaflet",
            "_model_module_version": "^0.18",
            "_model_name": "LeafletFullScreenControlModel",
            "_view_count": null,
            "_view_module": "jupyter-leaflet",
            "_view_module_version": "^0.18",
            "_view_name": "LeafletFullScreenControlView",
            "options": [
              "position"
            ],
            "position": "topleft"
          }
        },
        "5cd41c2a966845249e1d60fe7a7a4b4c": {
          "model_module": "@jupyter-widgets/base",
          "model_module_version": "1.2.0",
          "model_name": "LayoutModel",
          "state": {
            "_model_module": "@jupyter-widgets/base",
            "_model_module_version": "1.2.0",
            "_model_name": "LayoutModel",
            "_view_count": null,
            "_view_module": "@jupyter-widgets/base",
            "_view_module_version": "1.2.0",
            "_view_name": "LayoutView",
            "align_content": null,
            "align_items": null,
            "align_self": null,
            "border": null,
            "bottom": null,
            "display": null,
            "flex": null,
            "flex_flow": null,
            "grid_area": null,
            "grid_auto_columns": null,
            "grid_auto_flow": null,
            "grid_auto_rows": null,
            "grid_column": null,
            "grid_gap": null,
            "grid_row": null,
            "grid_template_areas": null,
            "grid_template_columns": null,
            "grid_template_rows": null,
            "height": "600px",
            "justify_content": null,
            "justify_items": null,
            "left": null,
            "margin": null,
            "max_height": null,
            "max_width": null,
            "min_height": null,
            "min_width": null,
            "object_fit": null,
            "object_position": null,
            "order": null,
            "overflow": null,
            "overflow_x": null,
            "overflow_y": null,
            "padding": null,
            "right": null,
            "top": null,
            "visibility": null,
            "width": null
          }
        },
        "5d253311ce274c59a32b86b2cf23728d": {
          "model_module": "@jupyter-widgets/controls",
          "model_module_version": "1.5.0",
          "model_name": "VBoxModel",
          "state": {
            "_dom_classes": [
              "geemap-colab"
            ],
            "_model_module": "@jupyter-widgets/controls",
            "_model_module_version": "1.5.0",
            "_model_name": "VBoxModel",
            "_view_count": null,
            "_view_module": "@jupyter-widgets/controls",
            "_view_module_version": "1.5.0",
            "_view_name": "VBoxView",
            "box_style": "",
            "children": [
              "IPY_MODEL_abecf1aeccd145119a2be178de55d893"
            ],
            "layout": "IPY_MODEL_0b6c485df62940538b1d233c0959048f"
          }
        },
        "5f63d784c5184291b7138b0bfe9746fd": {
          "model_module": "jupyter-leaflet",
          "model_module_version": "^0.18",
          "model_name": "LeafletTileLayerModel",
          "state": {
            "_model_module": "jupyter-leaflet",
            "_model_module_version": "^0.18",
            "_model_name": "LeafletTileLayerModel",
            "_view_count": null,
            "_view_module": "jupyter-leaflet",
            "_view_module_version": "^0.18",
            "_view_name": "LeafletTileLayerView",
            "attribution": "Google Earth Engine",
            "base": false,
            "bottom": true,
            "bounds": null,
            "detect_retina": false,
            "loading": true,
            "max_native_zoom": null,
            "max_zoom": 24,
            "min_native_zoom": null,
            "min_zoom": 0,
            "name": "Before Floods (Filtered)",
            "no_wrap": false,
            "opacity": 1,
            "options": [
              "attribution",
              "bounds",
              "detect_retina",
              "max_native_zoom",
              "max_zoom",
              "min_native_zoom",
              "min_zoom",
              "no_wrap",
              "tile_size",
              "tms",
              "zoom_offset"
            ],
            "pane": "",
            "popup": null,
            "popup_max_height": null,
            "popup_max_width": 300,
            "popup_min_width": 50,
            "show_loading": false,
            "subitems": [],
            "tile_size": 256,
            "tms": false,
            "url": "https://earthengine.googleapis.com/v1/projects/ee-xbosonai/maps/bfdcf449c49c0a69dcf3cd23783de3c6-7367b2a28d0d92e795049ba0845eb0e1/tiles/{z}/{x}/{y}",
            "visible": false,
            "zoom_offset": 0
          }
        },
        "6a00e96cc3c44e4382b336c1c57405b3": {
          "model_module": "@jupyter-widgets/controls",
          "model_module_version": "1.5.0",
          "model_name": "HBoxModel",
          "state": {
            "_dom_classes": [
              "geemap-colab"
            ],
            "_model_module": "@jupyter-widgets/controls",
            "_model_module_version": "1.5.0",
            "_model_name": "HBoxModel",
            "_view_count": null,
            "_view_module": "@jupyter-widgets/controls",
            "_view_module_version": "1.5.0",
            "_view_name": "HBoxView",
            "box_style": "",
            "children": [
              "IPY_MODEL_fc85606f7d364baeba898fda835114ff"
            ],
            "layout": "IPY_MODEL_1d4e05c0be3d4fb08f65dfb14a4f8c8a"
          }
        },
        "7a60f10bede9469e914d5353dc345c50": {
          "model_module": "jupyter-leaflet",
          "model_module_version": "^0.18",
          "model_name": "LeafletTileLayerModel",
          "state": {
            "_model_module": "jupyter-leaflet",
            "_model_module_version": "^0.18",
            "_model_name": "LeafletTileLayerModel",
            "_view_count": null,
            "_view_module": "jupyter-leaflet",
            "_view_module_version": "^0.18",
            "_view_name": "LeafletTileLayerView",
            "attribution": "Google Earth Engine",
            "base": false,
            "bottom": true,
            "bounds": null,
            "detect_retina": false,
            "loading": true,
            "max_native_zoom": null,
            "max_zoom": 24,
            "min_native_zoom": null,
            "min_zoom": 0,
            "name": "Steep Areas",
            "no_wrap": false,
            "opacity": 1,
            "options": [
              "attribution",
              "bounds",
              "detect_retina",
              "max_native_zoom",
              "max_zoom",
              "min_native_zoom",
              "min_zoom",
              "no_wrap",
              "tile_size",
              "tms",
              "zoom_offset"
            ],
            "pane": "",
            "popup": null,
            "popup_max_height": null,
            "popup_max_width": 300,
            "popup_min_width": 50,
            "show_loading": false,
            "subitems": [],
            "tile_size": 256,
            "tms": false,
            "url": "https://earthengine.googleapis.com/v1/projects/ee-xbosonai/maps/55f9f874f2cd876f3041034f2f8b4f68-4e0b54d311667562fadb5a12aaf3b7b1/tiles/{z}/{x}/{y}",
            "visible": true,
            "zoom_offset": 0
          }
        },
        "84145019f7224078b67d81bb0313398a": {
          "model_module": "jupyter-leaflet",
          "model_module_version": "^0.18",
          "model_name": "LeafletTileLayerModel",
          "state": {
            "_model_module": "jupyter-leaflet",
            "_model_module_version": "^0.18",
            "_model_name": "LeafletTileLayerModel",
            "_view_count": null,
            "_view_module": "jupyter-leaflet",
            "_view_module_version": "^0.18",
            "_view_name": "LeafletTileLayerView",
            "attribution": "Google Earth Engine",
            "base": false,
            "bottom": true,
            "bounds": null,
            "detect_retina": false,
            "loading": true,
            "max_native_zoom": null,
            "max_zoom": 24,
            "min_native_zoom": null,
            "min_zoom": 0,
            "name": "Initial Flood Area (Division)",
            "no_wrap": false,
            "opacity": 1,
            "options": [
              "attribution",
              "bounds",
              "detect_retina",
              "max_native_zoom",
              "max_zoom",
              "min_native_zoom",
              "min_zoom",
              "no_wrap",
              "tile_size",
              "tms",
              "zoom_offset"
            ],
            "pane": "",
            "popup": null,
            "popup_max_height": null,
            "popup_max_width": 300,
            "popup_min_width": 50,
            "show_loading": false,
            "subitems": [],
            "tile_size": 256,
            "tms": false,
            "url": "https://earthengine.googleapis.com/v1/projects/ee-xbosonai/maps/d2119d6b4a31a9d5ae2937850d12f961-17347f230972b3fa108334d70a7053e7/tiles/{z}/{x}/{y}",
            "visible": true,
            "zoom_offset": 0
          }
        },
        "850f1f98e06c4d84ba63186aa5d30359": {
          "model_module": "jupyter-leaflet",
          "model_module_version": "^0.18",
          "model_name": "LeafletMapStyleModel",
          "state": {
            "_model_module": "jupyter-leaflet",
            "_model_module_version": "^0.18",
            "_model_name": "LeafletMapStyleModel",
            "_view_count": null,
            "_view_module": "@jupyter-widgets/base",
            "_view_module_version": "1.2.0",
            "_view_name": "StyleView",
            "cursor": "grab"
          }
        },
        "925c191156c34f79a3833b4867a4914f": {
          "model_module": "jupyter-leaflet",
          "model_module_version": "^0.18",
          "model_name": "LeafletTileLayerModel",
          "state": {
            "_model_module": "jupyter-leaflet",
            "_model_module_version": "^0.18",
            "_model_name": "LeafletTileLayerModel",
            "_view_count": null,
            "_view_module": "jupyter-leaflet",
            "_view_module_version": "^0.18",
            "_view_name": "LeafletTileLayerView",
            "attribution": "Google Earth Engine",
            "base": false,
            "bottom": true,
            "bounds": null,
            "detect_retina": false,
            "loading": true,
            "max_native_zoom": null,
            "max_zoom": 24,
            "min_native_zoom": null,
            "min_zoom": 0,
            "name": "Permanent Water",
            "no_wrap": false,
            "opacity": 1,
            "options": [
              "attribution",
              "bounds",
              "detect_retina",
              "max_native_zoom",
              "max_zoom",
              "min_native_zoom",
              "min_zoom",
              "no_wrap",
              "tile_size",
              "tms",
              "zoom_offset"
            ],
            "pane": "",
            "popup": null,
            "popup_max_height": null,
            "popup_max_width": 300,
            "popup_min_width": 50,
            "show_loading": false,
            "subitems": [],
            "tile_size": 256,
            "tms": false,
            "url": "https://earthengine.googleapis.com/v1/projects/ee-xbosonai/maps/b40717e65d25ee7e2132f16c649c6b78-10ea37341d7b8ff1aa15803252054c02/tiles/{z}/{x}/{y}",
            "visible": true,
            "zoom_offset": 0
          }
        },
        "abecf1aeccd145119a2be178de55d893": {
          "model_module": "@jupyter-widgets/controls",
          "model_module_version": "1.5.0",
          "model_name": "ToggleButtonModel",
          "state": {
            "_dom_classes": [],
            "_model_module": "@jupyter-widgets/controls",
            "_model_module_version": "1.5.0",
            "_model_name": "ToggleButtonModel",
            "_view_count": null,
            "_view_module": "@jupyter-widgets/controls",
            "_view_module_version": "1.5.0",
            "_view_name": "ToggleButtonView",
            "button_style": "",
            "description": "",
            "description_tooltip": null,
            "disabled": false,
            "icon": "wrench",
            "layout": "IPY_MODEL_b19a23f1483d4ae9ae460441436ed7d4",
            "style": "IPY_MODEL_1fc0103f41e54b65a8edb8bc542a54c3",
            "tooltip": "Toolbar",
            "value": false
          }
        },
        "b19a23f1483d4ae9ae460441436ed7d4": {
          "model_module": "@jupyter-widgets/base",
          "model_module_version": "1.2.0",
          "model_name": "LayoutModel",
          "state": {
            "_model_module": "@jupyter-widgets/base",
            "_model_module_version": "1.2.0",
            "_model_name": "LayoutModel",
            "_view_count": null,
            "_view_module": "@jupyter-widgets/base",
            "_view_module_version": "1.2.0",
            "_view_name": "LayoutView",
            "align_content": null,
            "align_items": null,
            "align_self": null,
            "border": null,
            "bottom": null,
            "display": null,
            "flex": null,
            "flex_flow": null,
            "grid_area": null,
            "grid_auto_columns": null,
            "grid_auto_flow": null,
            "grid_auto_rows": null,
            "grid_column": null,
            "grid_gap": null,
            "grid_row": null,
            "grid_template_areas": null,
            "grid_template_columns": null,
            "grid_template_rows": null,
            "height": "28px",
            "justify_content": null,
            "justify_items": null,
            "left": null,
            "margin": null,
            "max_height": null,
            "max_width": null,
            "min_height": null,
            "min_width": null,
            "object_fit": null,
            "object_position": null,
            "order": null,
            "overflow": null,
            "overflow_x": null,
            "overflow_y": null,
            "padding": "0px 0px 0px 4px",
            "right": null,
            "top": null,
            "visibility": null,
            "width": "28px"
          }
        },
        "bcfba1c048734f9ea3f9e74a07786cb7": {
          "model_module": "jupyter-leaflet",
          "model_module_version": "^0.18",
          "model_name": "LeafletLayersControlModel",
          "state": {
            "_model_module": "jupyter-leaflet",
            "_model_module_version": "^0.18",
            "_model_name": "LeafletLayersControlModel",
            "_view_count": null,
            "_view_module": "jupyter-leaflet",
            "_view_module_version": "^0.18",
            "_view_name": "LeafletLayersControlView",
            "collapsed": true,
            "options": [
              "collapsed",
              "position"
            ],
            "position": "topright"
          }
        },
        "c6ed8423645942b7a0a3e63be8a83013": {
          "model_module": "jupyter-leaflet",
          "model_module_version": "^0.18",
          "model_name": "LeafletAttributionControlModel",
          "state": {
            "_model_module": "jupyter-leaflet",
            "_model_module_version": "^0.18",
            "_model_name": "LeafletAttributionControlModel",
            "_view_count": null,
            "_view_module": "jupyter-leaflet",
            "_view_module_version": "^0.18",
            "_view_name": "LeafletAttributionControlView",
            "options": [
              "position",
              "prefix"
            ],
            "position": "bottomright",
            "prefix": "ipyleaflet"
          }
        },
        "ca212789170e49f488cb8baca2a26a27": {
          "model_module": "jupyter-leaflet",
          "model_module_version": "^0.18",
          "model_name": "LeafletMeasureControlModel",
          "state": {
            "_custom_units": {},
            "_model_module": "jupyter-leaflet",
            "_model_module_version": "^0.18",
            "_model_name": "LeafletMeasureControlModel",
            "_view_count": null,
            "_view_module": "jupyter-leaflet",
            "_view_module_version": "^0.18",
            "_view_name": "LeafletMeasureControlView",
            "active_color": "orange",
            "capture_z_index": 10000,
            "completed_color": "#C8F2BE",
            "options": [
              "active_color",
              "capture_z_index",
              "completed_color",
              "popup_options",
              "position",
              "primary_area_unit",
              "primary_length_unit",
              "secondary_area_unit",
              "secondary_length_unit"
            ],
            "popup_options": {
              "autoPanPadding": [
                10,
                10
              ],
              "className": "leaflet-measure-resultpopup"
            },
            "position": "bottomleft",
            "primary_area_unit": "acres",
            "primary_length_unit": "kilometers",
            "secondary_area_unit": null,
            "secondary_length_unit": null
          }
        },
        "cc464a696b754216848c3bc405995378": {
          "model_module": "jupyter-leaflet",
          "model_module_version": "^0.18",
          "model_name": "LeafletMapStyleModel",
          "state": {
            "_model_module": "jupyter-leaflet",
            "_model_module_version": "^0.18",
            "_model_name": "LeafletMapStyleModel",
            "_view_count": null,
            "_view_module": "@jupyter-widgets/base",
            "_view_module_version": "1.2.0",
            "_view_name": "StyleView",
            "cursor": "grab"
          }
        },
        "d5b0ec86142143f7ac77da88b3c2a590": {
          "model_module": "jupyter-leaflet",
          "model_module_version": "^0.18",
          "model_name": "LeafletWidgetControlModel",
          "state": {
            "_model_module": "jupyter-leaflet",
            "_model_module_version": "^0.18",
            "_model_name": "LeafletWidgetControlModel",
            "_view_count": null,
            "_view_module": "jupyter-leaflet",
            "_view_module_version": "^0.18",
            "_view_name": "LeafletWidgetControlView",
            "max_height": null,
            "max_width": null,
            "min_height": null,
            "min_width": null,
            "options": [
              "position",
              "transparent_bg"
            ],
            "position": "topright",
            "transparent_bg": false,
            "widget": "IPY_MODEL_5d253311ce274c59a32b86b2cf23728d"
          }
        },
        "d97e792ea30e4ba8975490f4ef0b577d": {
          "model_module": "jupyter-leaflet",
          "model_module_version": "^0.18",
          "model_name": "LeafletScaleControlModel",
          "state": {
            "_model_module": "jupyter-leaflet",
            "_model_module_version": "^0.18",
            "_model_name": "LeafletScaleControlModel",
            "_view_count": null,
            "_view_module": "jupyter-leaflet",
            "_view_module_version": "^0.18",
            "_view_name": "LeafletScaleControlView",
            "imperial": true,
            "max_width": 100,
            "metric": true,
            "options": [
              "imperial",
              "max_width",
              "metric",
              "position",
              "update_when_idle"
            ],
            "position": "bottomleft",
            "update_when_idle": false
          }
        },
        "e8c3776c870b4094914829eec1e0aa05": {
          "model_module": "jupyter-leaflet",
          "model_module_version": "^0.18",
          "model_name": "LeafletMapModel",
          "state": {
            "_dom_classes": [],
            "_model_module": "jupyter-leaflet",
            "_model_module_version": "^0.18",
            "_model_name": "LeafletMapModel",
            "_view_count": null,
            "_view_module": "jupyter-leaflet",
            "_view_module_version": "^0.18",
            "_view_name": "LeafletMapView",
            "bottom": 31238,
            "bounce_at_zoom_limits": true,
            "box_zoom": true,
            "center": [
              10,
              76.5
            ],
            "close_popup_on_click": true,
            "controls": [
              "IPY_MODEL_32f1f4630a1743f395df8c6b2033d53c",
              "IPY_MODEL_2f3054f90e4940d1822bfdb4dff939d5",
              "IPY_MODEL_50810aa53d3d4e2a9089e1bf9f6e2a29",
              "IPY_MODEL_f0cb10bce592460195d59c91d0ed2f8a",
              "IPY_MODEL_d97e792ea30e4ba8975490f4ef0b577d",
              "IPY_MODEL_ca212789170e49f488cb8baca2a26a27",
              "IPY_MODEL_d5b0ec86142143f7ac77da88b3c2a590",
              "IPY_MODEL_c6ed8423645942b7a0a3e63be8a83013",
              "IPY_MODEL_bcfba1c048734f9ea3f9e74a07786cb7"
            ],
            "crs": {
              "custom": false,
              "name": "EPSG3857"
            },
            "default_style": "IPY_MODEL_850f1f98e06c4d84ba63186aa5d30359",
            "double_click_zoom": true,
            "dragging": true,
            "dragging_style": "IPY_MODEL_30c4c638e511440b899f17aa9e227e25",
            "east": 78.84338378906251,
            "fullscreen": false,
            "inertia": true,
            "inertia_deceleration": 3000,
            "inertia_max_speed": 1500,
            "interpolation": "bilinear",
            "keyboard": true,
            "keyboard_pan_offset": 80,
            "keyboard_zoom_offset": 1,
            "layers": [
              "IPY_MODEL_0f6fd2c9adce42d493bdcda1a5ffe92e",
              "IPY_MODEL_f63244ddb476492c923bd4c809c8696e",
              "IPY_MODEL_5f63d784c5184291b7138b0bfe9746fd",
              "IPY_MODEL_3578568c630e41da9be6fcd67c6ba203",
              "IPY_MODEL_84145019f7224078b67d81bb0313398a",
              "IPY_MODEL_40e98547d7e34e3181831893193169f0",
              "IPY_MODEL_925c191156c34f79a3833b4867a4914f",
              "IPY_MODEL_7a60f10bede9469e914d5353dc345c50",
              "IPY_MODEL_05d7fe69ee694b00ababbd8a2db8d715",
              "IPY_MODEL_f6461e0bc82447e28c5de8ab87ad51ea"
            ],
            "layout": "IPY_MODEL_5cd41c2a966845249e1d60fe7a7a4b4c",
            "left": 46267,
            "max_zoom": 24,
            "min_zoom": null,
            "modisdate": "2024-02-12",
            "north": 11.619954780767053,
            "options": [
              "bounce_at_zoom_limits",
              "box_zoom",
              "center",
              "close_popup_on_click",
              "double_click_zoom",
              "dragging",
              "fullscreen",
              "inertia",
              "inertia_deceleration",
              "inertia_max_speed",
              "interpolation",
              "keyboard",
              "keyboard_pan_offset",
              "keyboard_zoom_offset",
              "max_zoom",
              "min_zoom",
              "prefer_canvas",
              "scroll_wheel_zoom",
              "tap",
              "tap_tolerance",
              "touch_zoom",
              "world_copy_jump",
              "zoom",
              "zoom_animation_threshold",
              "zoom_delta",
              "zoom_snap"
            ],
            "panes": {},
            "prefer_canvas": false,
            "right": 47121,
            "scroll_wheel_zoom": true,
            "south": 8.374561985472765,
            "style": "IPY_MODEL_cc464a696b754216848c3bc405995378",
            "tap": true,
            "tap_tolerance": 15,
            "top": 30638,
            "touch_zoom": true,
            "west": 74.15222167968751,
            "window_url": "https://5hzp7kqgd44-496ff2e9c6d22116-0-colab.googleusercontent.com/outputframe.html?vrz=colab_20240209-060145_RC00_605555568",
            "world_copy_jump": false,
            "zoom": 8,
            "zoom_animation_threshold": 4,
            "zoom_delta": 1,
            "zoom_snap": 1
          }
        },
        "f0cb10bce592460195d59c91d0ed2f8a": {
          "model_module": "jupyter-leaflet",
          "model_module_version": "^0.18",
          "model_name": "LeafletDrawControlModel",
          "state": {
            "_model_module": "jupyter-leaflet",
            "_model_module_version": "^0.18",
            "_model_name": "LeafletDrawControlModel",
            "_view_count": null,
            "_view_module": "jupyter-leaflet",
            "_view_module_version": "^0.18",
            "_view_name": "LeafletDrawControlView",
            "circle": {},
            "circlemarker": {},
            "data": [],
            "edit": true,
            "marker": {
              "shapeOptions": {
                "color": "#3388ff"
              }
            },
            "options": [
              "position"
            ],
            "polygon": {
              "shapeOptions": {}
            },
            "polyline": {
              "shapeOptions": {}
            },
            "position": "topleft",
            "rectangle": {
              "shapeOptions": {
                "color": "#3388ff"
              }
            },
            "remove": true
          }
        },
        "f63244ddb476492c923bd4c809c8696e": {
          "model_module": "jupyter-leaflet",
          "model_module_version": "^0.18",
          "model_name": "LeafletTileLayerModel",
          "state": {
            "_model_module": "jupyter-leaflet",
            "_model_module_version": "^0.18",
            "_model_name": "LeafletTileLayerModel",
            "_view_count": null,
            "_view_module": "jupyter-leaflet",
            "_view_module_version": "^0.18",
            "_view_name": "LeafletTileLayerView",
            "attribution": "Google Earth Engine",
            "base": false,
            "bottom": true,
            "bounds": null,
            "detect_retina": false,
            "loading": true,
            "max_native_zoom": null,
            "max_zoom": 24,
            "min_native_zoom": null,
            "min_zoom": 0,
            "name": "Ernakulam District",
            "no_wrap": false,
            "opacity": 1,
            "options": [
              "attribution",
              "bounds",
              "detect_retina",
              "max_native_zoom",
              "max_zoom",
              "min_native_zoom",
              "min_zoom",
              "no_wrap",
              "tile_size",
              "tms",
              "zoom_offset"
            ],
            "pane": "",
            "popup": null,
            "popup_max_height": null,
            "popup_max_width": 300,
            "popup_min_width": 50,
            "show_loading": false,
            "subitems": [],
            "tile_size": 256,
            "tms": false,
            "url": "https://earthengine.googleapis.com/v1/projects/ee-xbosonai/maps/31ec810b475147c9c4a674ed966d85ac-ab5919c69d20539f413c9046344ffb7f/tiles/{z}/{x}/{y}",
            "visible": true,
            "zoom_offset": 0
          }
        },
        "f6461e0bc82447e28c5de8ab87ad51ea": {
          "model_module": "jupyter-leaflet",
          "model_module_version": "^0.18",
          "model_name": "LeafletTileLayerModel",
          "state": {
            "_model_module": "jupyter-leaflet",
            "_model_module_version": "^0.18",
            "_model_name": "LeafletTileLayerModel",
            "_view_count": null,
            "_view_module": "jupyter-leaflet",
            "_view_module_version": "^0.18",
            "_view_name": "LeafletTileLayerView",
            "attribution": "Google Earth Engine",
            "base": false,
            "bottom": true,
            "bounds": null,
            "detect_retina": false,
            "loading": true,
            "max_native_zoom": null,
            "max_zoom": 24,
            "min_native_zoom": null,
            "min_zoom": 0,
            "name": "Flooded Areas",
            "no_wrap": false,
            "opacity": 1,
            "options": [
              "attribution",
              "bounds",
              "detect_retina",
              "max_native_zoom",
              "max_zoom",
              "min_native_zoom",
              "min_zoom",
              "no_wrap",
              "tile_size",
              "tms",
              "zoom_offset"
            ],
            "pane": "",
            "popup": null,
            "popup_max_height": null,
            "popup_max_width": 300,
            "popup_min_width": 50,
            "show_loading": false,
            "subitems": [],
            "tile_size": 256,
            "tms": false,
            "url": "https://earthengine.googleapis.com/v1/projects/ee-xbosonai/maps/b442cb1463dc44e2b2ccb1b7e14c8127-7b5da15aa540ba6a6e5b4879336355c4/tiles/{z}/{x}/{y}",
            "visible": true,
            "zoom_offset": 0
          }
        },
        "fa59d54154ce4267af32426d687659e2": {
          "model_module": "@jupyter-widgets/base",
          "model_module_version": "1.2.0",
          "model_name": "LayoutModel",
          "state": {
            "_model_module": "@jupyter-widgets/base",
            "_model_module_version": "1.2.0",
            "_model_name": "LayoutModel",
            "_view_count": null,
            "_view_module": "@jupyter-widgets/base",
            "_view_module_version": "1.2.0",
            "_view_name": "LayoutView",
            "align_content": null,
            "align_items": null,
            "align_self": null,
            "border": null,
            "bottom": null,
            "display": null,
            "flex": null,
            "flex_flow": null,
            "grid_area": null,
            "grid_auto_columns": null,
            "grid_auto_flow": null,
            "grid_auto_rows": null,
            "grid_column": null,
            "grid_gap": null,
            "grid_row": null,
            "grid_template_areas": null,
            "grid_template_columns": null,
            "grid_template_rows": null,
            "height": "28px",
            "justify_content": null,
            "justify_items": null,
            "left": null,
            "margin": null,
            "max_height": null,
            "max_width": null,
            "min_height": null,
            "min_width": null,
            "object_fit": null,
            "object_position": null,
            "order": null,
            "overflow": null,
            "overflow_x": null,
            "overflow_y": null,
            "padding": "0px 0px 0px 4px",
            "right": null,
            "top": null,
            "visibility": null,
            "width": "28px"
          }
        },
        "fc85606f7d364baeba898fda835114ff": {
          "model_module": "@jupyter-widgets/controls",
          "model_module_version": "1.5.0",
          "model_name": "ToggleButtonModel",
          "state": {
            "_dom_classes": [],
            "_model_module": "@jupyter-widgets/controls",
            "_model_module_version": "1.5.0",
            "_model_name": "ToggleButtonModel",
            "_view_count": null,
            "_view_module": "@jupyter-widgets/controls",
            "_view_module_version": "1.5.0",
            "_view_name": "ToggleButtonView",
            "button_style": "",
            "description": "",
            "description_tooltip": null,
            "disabled": false,
            "icon": "globe",
            "layout": "IPY_MODEL_fa59d54154ce4267af32426d687659e2",
            "style": "IPY_MODEL_22b23cce4208499f87ee5bc7fd5cf92c",
            "tooltip": "Search location/data",
            "value": false
          }
        }
      }
    }
  },
  "nbformat": 4,
  "nbformat_minor": 0
}
